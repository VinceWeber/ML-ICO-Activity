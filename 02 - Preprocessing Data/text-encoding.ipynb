{
 "cells": [
  {
   "cell_type": "code",
   "execution_count": 21,
   "metadata": {},
   "outputs": [
    {
     "name": "stdout",
     "output_type": "stream",
     "text": [
      "         Author                     Title  Rating  Author_Encoded  \\\n",
      "0      John Doe       The Great Adventure     4.5               3   \n",
      "1    Jane Smith          Data Science 101     3.8               2   \n",
      "2      John Doe      Journey to the Stars     4.2               3   \n",
      "3     Tom Brown      Python for Beginners     4.0               4   \n",
      "4    Jane Smith          Data Science 101     3.5               2   \n",
      "5  Toam Browned  Pythons fored Begianners     4.1               4   \n",
      "6  Tham Brotned  Pythons fored Begianners     2.5               2   \n",
      "\n",
      "  Title_Encoded  \n",
      "0     [4, 4, 1]  \n",
      "1     [4, 3, 4]  \n",
      "2  [0, 3, 4, 3]  \n",
      "3     [2, 4, 2]  \n",
      "4     [4, 3, 4]  \n",
      "5     [1, 3, 1]  \n",
      "6     [1, 3, 1]  \n"
     ]
    }
   ],
   "source": [
    "import pandas as pd\n",
    "import hashlib\n",
    "\n",
    "def feature_hashing(s, n_buckets):\n",
    "    return int(hashlib.md5(s.encode()).hexdigest(), 16) % n_buckets\n",
    "\n",
    "# Example dataset\n",
    "data = {\n",
    "    'Author': ['John Doe', 'Jane Smith', 'John Doe', 'Tom Brown', 'Jane Smith','Toam Browned','Tham Brotned'],\n",
    "    'Title': ['The Great Adventure', 'Data Science 101', 'Journey to the Stars', 'Python for Beginners', 'Data Science 101', 'Pythons fored Begianners', 'Pythons fored Begianners'],\n",
    "    'Rating': [4.5, 3.8, 4.2, 4.0, 3.5,4.1,2.5]\n",
    "}\n",
    "\n",
    "df = pd.DataFrame(data)\n",
    "\n",
    "# Set the number of buckets for feature hashing\n",
    "n_buckets = 5\n",
    "\n",
    "# Feature hashing for 'Author' column\n",
    "df['Author_Encoded'] = df['Author'].apply(lambda x: feature_hashing(x, n_buckets))\n",
    "\n",
    "# Feature hashing for 'Title' column (splitting into words)\n",
    "df['Title_Encoded'] = df['Title'].apply(lambda x: [feature_hashing(word, n_buckets) for word in x.lower().split()])\n",
    "\n",
    "print(df)"
   ]
  }
 ],
 "metadata": {
  "kernelspec": {
   "display_name": "Parcours",
   "language": "python",
   "name": "python3"
  },
  "language_info": {
   "codemirror_mode": {
    "name": "ipython",
    "version": 3
   },
   "file_extension": ".py",
   "mimetype": "text/x-python",
   "name": "python",
   "nbconvert_exporter": "python",
   "pygments_lexer": "ipython3",
   "version": "3.9.0"
  },
  "orig_nbformat": 4
 },
 "nbformat": 4,
 "nbformat_minor": 2
}
